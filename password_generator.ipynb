{
 "cells": [
  {
   "cell_type": "markdown",
   "metadata": {},
   "source": [
    "### Task 1: Random_password_generator"
   ]
  },
  {
   "cell_type": "code",
   "execution_count": null,
   "metadata": {},
   "outputs": [
    {
     "name": "stdout",
     "output_type": "stream",
     "text": [
      "<class 'list'>\n"
     ]
    }
   ],
   "source": [
    "numbers = ['0', '1', '2', '3', '4', '5', '6', '7', '8', '9']\n",
    "\n",
    "special_char = ['!', '@', '#', '$', '%', '^', '&',\n",
    "                '(', ')', '-', '_', '+', '=', '*']\n",
    "\n",
    "lowercase_alphabets = ['a', 'b', 'c', 'd', 'e', 'f', 'g',\n",
    "             'h', 'i', 'j', 'k', 'l', 'm', 'n', \n",
    "             'o', 'p', 'q', 'r', 's', 't', 'u',\n",
    "             'v', 'w', 'x', 'y', 'z']\n",
    "\n",
    "# created a list containing uppercase alphabets using list of lowercase alphabets\n",
    "uppercase_alphabets = [alphabet.upper() for alphabet in lowercase_alphabets ]\n",
    "\n",
    "#create a new list containing both lowercase and uppercase alphabets\n",
    "alphabets = lowercase_alphabets + uppercase_alphabets\n",
    "print(type(alphabets))"
   ]
  },
  {
   "cell_type": "code",
   "execution_count": null,
   "metadata": {},
   "outputs": [
    {
     "name": "stdout",
     "output_type": "stream",
     "text": [
      "['8', '8', '1', '%', 'Y', 'Z', 'b', 'Z', 'o', 'R', 'M', 's']\n",
      "['R', 'M', 'b', '%', 'o', '1', 'Y', '8', 'Z', '8', 's', 'Z']\n",
      "RMb%o1Y8Z8sZ\n"
     ]
    }
   ],
   "source": [
    "import random\n",
    "\n",
    "def password_generator():\n",
    "    #get random from each list\n",
    "    random_numbers = ''.join(random.choice(numbers) for i in range(3))\n",
    "    random_spec_chars = random.choice(special_char)\n",
    "    random_alphabets = ''.join(random.choice(alphabets) for i in range(8))\n",
    "\n",
    "    #combining extracted random character, numbers and alphabets to get a 'GENERATED PASSWORD'\n",
    "    random_password = random_numbers + random_spec_chars + random_alphabets\n",
    "    #Outputs are like : 740#hgXUiQZI ( numbers, then character and then alphabets)\n",
    "    \n",
    "    #loop to get each character from the generated password and store it seperately in a list.\n",
    "    charac_list = []\n",
    "\n",
    "    for charac in random_password:\n",
    "        charac_list.append(charac)\n",
    "    print(charac_list)\n",
    "    #Now the GENERATED PASSWORD became a list as : ['7', '4', '0', '#', 'h', 'g', 'x', 'U', 'i', 'Q', 'Z', 'I']\n",
    "    \n",
    "    #To shuffle the characters of the generated password (which was converted to list)\n",
    "    random.shuffle(charac_list)\n",
    "    print(charac_list)\n",
    "\n",
    "    #Convert list back to \"String\" datatype\n",
    "    random_password = ''.join(charac_list)\n",
    "    print(random_password)\n",
    "\n",
    "\n",
    "password_generator()"
   ]
  },
  {
   "cell_type": "markdown",
   "metadata": {},
   "source": [
    "#### Random 8 characters, 3 numbers, 1 special character"
   ]
  }
 ],
 "metadata": {
  "kernelspec": {
   "display_name": "Python 3",
   "language": "python",
   "name": "python3"
  },
  "language_info": {
   "codemirror_mode": {
    "name": "ipython",
    "version": 3
   },
   "file_extension": ".py",
   "mimetype": "text/x-python",
   "name": "python",
   "nbconvert_exporter": "python",
   "pygments_lexer": "ipython3",
   "version": "3.12.7"
  }
 },
 "nbformat": 4,
 "nbformat_minor": 2
}
